{
 "cells": [
  {
   "cell_type": "code",
   "execution_count": 51,
   "id": "5e99959c",
   "metadata": {},
   "outputs": [],
   "source": [
    "#Marnt Fendl Code\n",
    "\n",
    "#Imports der benötigten Bibliotheken\n",
    "import pandas as pd\n",
    "import os\n",
    "from selenium import webdriver\n",
    "from selenium.webdriver.support.ui import WebDriverWait\n",
    "from selenium.webdriver.common.by import By\n",
    "from selenium.webdriver.support import expected_conditions as EC"
   ]
  },
  {
   "cell_type": "code",
   "execution_count": 52,
   "id": "e0195ece",
   "metadata": {},
   "outputs": [],
   "source": [
    "#Pfade der Inputs festlegen\n",
    "partnerlist = r'Partnerlisten\\Top2000AS.xlsx'\n",
    "keywordslist = 'Keywords/CradlepointKeywords.xlsx'"
   ]
  },
  {
   "cell_type": "code",
   "execution_count": null,
   "id": "4370160d",
   "metadata": {
    "scrolled": true
   },
   "outputs": [],
   "source": [
    "#import Excel Partnerliste to partner_list array\n",
    "\n",
    "df = pd.read_excel (partnerlist, header = None)\n",
    "partner_list = df[0].tolist()\n",
    "partner_list = [each_string.lower() for each_string in partner_list]\n",
    "\n",
    "# initializing special characters\n",
    "special_char = '@_!#$%^&*()<>?/\\|}{~:;.[]'\n",
    " \n",
    "# remove special characters \n",
    "partner_list = [''.join(filter(lambda i: i not in special_char, string)) for string in partner_list]\n",
    "\n",
    "print(len(partner_list))\n",
    "print(partner_list)"
   ]
  },
  {
   "cell_type": "code",
   "execution_count": null,
   "id": "17ed81f3",
   "metadata": {
    "scrolled": true
   },
   "outputs": [],
   "source": [
    "#Bearbeitung der Sourcecodesnamen\n",
    "\n",
    "#Array mit Sourcecodesnamen erstellen\n",
    "sourcecodes_list = os.listdir('Sourcecodes')\n",
    "#.txt Endung von Namen entfernen\n",
    "sourcecodes_list = {x.replace('.txt', '') for x in sourcecodes_list}\n",
    "#Ausgabe der Liste und Länge der Liste\n",
    "print(len(sourcecodes_list))\n",
    "print(sourcecodes_list)"
   ]
  },
  {
   "cell_type": "code",
   "execution_count": null,
   "id": "d28a7eaf",
   "metadata": {},
   "outputs": [],
   "source": [
    "#Check wieviele der gewollte Sourcecodes sind schon runtergeladen\n",
    "counter = 0\n",
    "for partner in partner_list:\n",
    "    if partner in sourcecodes_list:\n",
    "        counter +=1\n",
    "\n",
    "print(f'{counter} {len(partner_list)}')"
   ]
  },
  {
   "cell_type": "code",
   "execution_count": null,
   "id": "05735c3f",
   "metadata": {
    "scrolled": true
   },
   "outputs": [],
   "source": [
    "#Runterladen der Sourcecodes, welche noch nicht gefunden wurden \n",
    "\n",
    "#Festlegen von Arrays für die spätere Überprüfung der Partner\n",
    "found = []\n",
    "not_found = []\n",
    "\n",
    "#Loop durch alle Partner in der Partnerliste\n",
    "for index,company in enumerate(partner_list):\n",
    "    #Wenn Sourcecode noch nicht runtergeladen, wird der Sroucecode runtergeladen\n",
    "    if company not in sourcecodes_list:\n",
    "        #Companyname Space mit Plus ersetzten, damit googlen möglich\n",
    "        company.replace(' ', '+')\n",
    "        #Leider hat die es mit Initalisierung außerhalb nicht geklappt\n",
    "        driver = webdriver.Chrome()\n",
    "        google = 'https://www.google.com/search?q='\n",
    "        url = google+company\n",
    "        #Aufrufen der Googlesuche\n",
    "        driver.get(url)\n",
    "        print(url)\n",
    "        #Array mit allen gefundenen Links der Googlesuche erstellen\n",
    "        results = driver.find_elements_by_partial_link_text('http')\n",
    "        if results:\n",
    "            print(results[0])\n",
    "            #ersten Link aufrufen\n",
    "            richtiger_link = results[0].get_attribute('href')\n",
    "            print(richtiger_link)\n",
    "            try:\n",
    "                driver.get(richtiger_link)\n",
    "                driver.implicitly_wait(2)\n",
    "                company = company.replace('+', '')\n",
    "                filename = f'{sourcecodes}\\\\{company}.txt'\n",
    "                with open(filename,'w', encoding='utf-8') as f:\n",
    "                    datafile = f.write(driver.page_source.lower())\n",
    "                    f.close()\n",
    "                driver.close()\n",
    "                print(f'{index+1} von {len(partner_list)} fertig')\n",
    "                found.append(company)\n",
    "            except:\n",
    "                print('Konnte Scourecodes nicht downloaden')\n",
    "                not_found.append(company)\n",
    "        else:\n",
    "            print(f'Es wurde kein Link für {company} gefunden')\n",
    "            not_found.append(company)\n",
    "            \n",
    "    else:\n",
    "        next\n",
    "        print(index)\n",
    "        found.append(company)"
   ]
  },
  {
   "cell_type": "code",
   "execution_count": 61,
   "id": "4695a36a",
   "metadata": {},
   "outputs": [
    {
     "name": "stdout",
     "output_type": "stream",
     "text": [
      "Zu 1959 Partnern wurden Sourcecodes gedownloaded\n",
      "Zu 41 Partnern wurden keine Sourcecodes gedownloaded\n"
     ]
    }
   ],
   "source": [
    "#Wieviele Sourcecodes wurden gedownloaded?\n",
    "print(f'Zu {len(found)} Partnern wurden Sourcecodes gedownloaded')\n",
    "print(f'Zu {len(not_found)} Partnern wurden keine Sourcecodes gedownloaded')"
   ]
  },
  {
   "cell_type": "code",
   "execution_count": 62,
   "id": "44a8d753",
   "metadata": {},
   "outputs": [],
   "source": [
    "#Erstellen einer Funktion, welche den Sourcecode nach Keywords durchsucht und aus Findings ein Dictionary mit Keywords\n",
    "#und Partnernamen erstellt\n",
    "#hier kann man auch noch einen Counter einbauen, wie oft das Wort gefunden wurde\n",
    "def check (filename, keywords):\n",
    "    my_dict = {}\n",
    "    with open(filename, encoding='utf-8') as f:\n",
    "        datafile = f.readlines()\n",
    "    for word in keywords:\n",
    "        my_dict[word] = False\n",
    "        for line in datafile:\n",
    "            if word in line:\n",
    "                my_dict[word] = True\n",
    "    return my_dict"
   ]
  },
  {
   "cell_type": "code",
   "execution_count": 65,
   "id": "c98d1ada",
   "metadata": {},
   "outputs": [
    {
     "name": "stdout",
     "output_type": "stream",
     "text": [
      "['cradlepoint', '5g', 'wireless wan', 'sd-wan', 'sd wan', 'wan', 'wired wan', 'wan service', '4g', 'lte', '5g router', 'router', 'High-Band 5G', '99999', '99.99', 'downtime', 'meraki', 'cisco', 'fortinet', 'digi', 'cellular networking', 'cellular network', 'networking', 'netzwerk', 'vernetzung', 'networks', 'network']\n"
     ]
    }
   ],
   "source": [
    "#Excel Keywords in Array 'Keywords' importieren\n",
    "df = pd.read_excel (keywordslist, header = None)\n",
    "keywords = []\n",
    "keywords = df[0].tolist()\n",
    "keywords = [str(i) for i in keywords]\n",
    "\n",
    "print(keywords)"
   ]
  },
  {
   "cell_type": "code",
   "execution_count": null,
   "id": "16efbd14",
   "metadata": {},
   "outputs": [],
   "source": [
    "#Erneut Sourcecodes in Array importieren für spätere Erstellung des gesamten Dictionarys\n",
    "#Damit man den Code von oben nach unten ausführen kann\n",
    "sourcecodes_list = os.listdir('Sourcecodes')\n",
    "print(len(sourcecodes_list))\n",
    "print(sourcecodes_list)"
   ]
  },
  {
   "cell_type": "code",
   "execution_count": null,
   "id": "a40ddb7c",
   "metadata": {
    "scrolled": false
   },
   "outputs": [],
   "source": [
    "#Die Check Funktion auf alle Partner der Partnerliste ausführen und aus den einzelen Dictionarys ein großes Dictionary für jeden\n",
    "#Partner erstellen\n",
    "\n",
    "complete_dict = {}\n",
    "not_analyzed = []\n",
    "\n",
    "for current_company in partner_list:\n",
    "    try:\n",
    "        #current_company = current_company.replace(' ','+')\n",
    "        company_path = f'Sourcecodes\\\\{current_company}.txt'\n",
    "        current_dict = check(company_path, keywords)\n",
    "        complete_dict[current_company] = current_dict\n",
    "    except:\n",
    "        print(f'{current_company} hat nicht funktioniert')\n",
    "        not_analyzed.append(current_company)"
   ]
  },
  {
   "cell_type": "code",
   "execution_count": null,
   "id": "ec4539be",
   "metadata": {
    "scrolled": true
   },
   "outputs": [],
   "source": [
    "#Dictionary in ein Pandas Dataframe umwandeln, damit man dieses als Excel exportieren kann \n",
    "data = pd.DataFrame.from_dict(complete_dict, orient='index')\n",
    "print(data)\n",
    "data.to_excel(f'Auswertungen/Top2000AS.xlsx') #Namen ändern für neue Datei"
   ]
  }
 ],
 "metadata": {
  "kernelspec": {
   "display_name": "Python 3 (ipykernel)",
   "language": "python",
   "name": "python3"
  },
  "language_info": {
   "codemirror_mode": {
    "name": "ipython",
    "version": 3
   },
   "file_extension": ".py",
   "mimetype": "text/x-python",
   "name": "python",
   "nbconvert_exporter": "python",
   "pygments_lexer": "ipython3",
   "version": "3.9.6"
  }
 },
 "nbformat": 4,
 "nbformat_minor": 5
}
